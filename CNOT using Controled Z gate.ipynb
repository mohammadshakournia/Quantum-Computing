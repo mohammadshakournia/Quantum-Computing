{
 "cells": [
  {
   "cell_type": "code",
   "execution_count": 1,
   "id": "1b25a4e9",
   "metadata": {},
   "outputs": [],
   "source": [
    "import numpy as np\n",
    "from qiskit import *\n",
    "%matplotlib inline"
   ]
  },
  {
   "cell_type": "markdown",
   "id": "72510a06",
   "metadata": {},
   "source": [
    "## CNOT Gate"
   ]
  },
  {
   "cell_type": "code",
   "execution_count": 2,
   "id": "f2bb7c0f",
   "metadata": {},
   "outputs": [
    {
     "data": {
      "image/png": "[encoded data removed]",
      "text/plain": [
       "<Figure size 203.683x200.667 with 1 Axes>"
      ]
     },
     "execution_count": 2,
     "metadata": {},
     "output_type": "execute_result"
    }
   ],
   "source": [
    "circ1=QuantumCircuit(2)\n",
    "circ1.cx(1,0)\n",
    "circ1.draw('mpl')"
   ]
  },
  {
   "cell_type": "code",
   "execution_count": 3,
   "id": "9d6879f0",
   "metadata": {},
   "outputs": [
    {
     "name": "stdout",
     "output_type": "stream",
     "text": [
      "Operator([[1.+0.j, 0.+0.j, 0.+0.j, 0.+0.j],\n",
      "          [0.+0.j, 1.+0.j, 0.+0.j, 0.+0.j],\n",
      "          [0.+0.j, 0.+0.j, 0.+0.j, 1.+0.j],\n",
      "          [0.+0.j, 0.+0.j, 1.+0.j, 0.+0.j]],\n",
      "         input_dims=(2, 2), output_dims=(2, 2))\n"
     ]
    }
   ],
   "source": [
    "backend = Aer.get_backend('unitary_simulator')\n",
    "job = execute(circ1, backend)\n",
    "cnot_res=job.result().get_unitary(circ1, decimals=1)\n",
    "print(cnot_res)"
   ]
  },
  {
   "cell_type": "markdown",
   "id": "86f579cb",
   "metadata": {},
   "source": [
    "## HZH Gate to Construct CNOT Gate"
   ]
  },
  {
   "cell_type": "code",
   "execution_count": 4,
   "id": "e2e24228",
   "metadata": {},
   "outputs": [
    {
     "data": {
      "image/png": "[encoded data removed]",
      "text/plain": [
       "<Figure size 370.906x200.667 with 1 Axes>"
      ]
     },
     "execution_count": 4,
     "metadata": {},
     "output_type": "execute_result"
    }
   ],
   "source": [
    "circ= QuantumCircuit(2)\n",
    "circ.h(0)\n",
    "circ.cz(0,1)\n",
    "circ.h(0)\n",
    "circ.draw('mpl')"
   ]
  },
  {
   "cell_type": "code",
   "execution_count": 5,
   "id": "b71530a0",
   "metadata": {},
   "outputs": [
    {
     "name": "stdout",
     "output_type": "stream",
     "text": [
      "Operator([[1.-0.j, 0.+0.j, 0.+0.j, 0.+0.j],\n",
      "          [0.+0.j, 1.-0.j, 0.+0.j, 0.+0.j],\n",
      "          [0.+0.j, 0.+0.j, 0.+0.j, 1.-0.j],\n",
      "          [0.+0.j, 0.+0.j, 1.-0.j, 0.+0.j]],\n",
      "         input_dims=(2, 2), output_dims=(2, 2))\n"
     ]
    }
   ],
   "source": [
    "backend = Aer.get_backend('unitary_simulator')\n",
    "job = execute(circ, backend)\n",
    "HZH_res=job.result().get_unitary(circ, decimals=1)\n",
    "print(HZH_res)"
   ]
  },
  {
   "cell_type": "code",
   "execution_count": 6,
   "id": "d8d14a27",
   "metadata": {},
   "outputs": [
    {
     "name": "stdout",
     "output_type": "stream",
     "text": [
      "HZH Gate's result is equal to CNOT gate.\n"
     ]
    }
   ],
   "source": [
    "if(HZH_res==cnot_res):\n",
    "    print(\"HZH Gate's result is equal to CNOT gate.\")\n",
    "else:\n",
    "    print(\"HZH Gate's result is not equal to CNOT gate.\")"
   ]
  }
 ],
 "metadata": {
  "kernelspec": {
   "display_name": "Python 3 (ipykernel)",
   "language": "python",
   "name": "python3"
  },
  "language_info": {
   "codemirror_mode": {
    "name": "ipython",
    "version": 3
   },
   "file_extension": ".py",
   "mimetype": "text/x-python",
   "name": "python",
   "nbconvert_exporter": "python",
   "pygments_lexer": "ipython3",
   "version": "3.11.0"
  }
 },
 "nbformat": 4,
 "nbformat_minor": 5
}
